{
 "cells": [
  {
   "cell_type": "markdown",
   "metadata": {},
   "source": [
    "# Блокнот для написания обработки данных (transform), полученных с newsApi"
   ]
  },
  {
   "cell_type": "markdown",
   "metadata": {},
   "source": [
    "## Возможные операции трансформации данных:\n",
    "- Очистка данных (удаление неиспользуемых признаков, дубликатов, выбросов)\n",
    "- Переформатирование (форматирование данных с разных источников. Форматы дат, валюты и тп)\n",
    "- Извлечение признаков (создание новых признаков на основе существующих)\n",
    "- Агрегация (получение необходимых показателей)\n",
    "- Объединение (объединение данных с нескольких источников)\n",
    "- Фильтрация (исключение ненужных категорий из набора данных)"
   ]
  },
  {
   "cell_type": "code",
   "execution_count": 2,
   "metadata": {},
   "outputs": [],
   "source": [
    "import re\n",
    "import pandas as pd\n",
    "import nltk\n",
    "import matplotlib.pyplot as plt\n",
    "\n",
    "from sklearn.feature_extraction.text import TfidfVectorizer\n",
    "from nltk.corpus import stopwords\n",
    "from nltk.tokenize import word_tokenize\n",
    "from nltk.stem import WordNetLemmatizer\n",
    "from nltk.sentiment import SentimentIntensityAnalyzer\n"
   ]
  },
  {
   "cell_type": "markdown",
   "metadata": {},
   "source": [
    "## 1. Импорт данных"
   ]
  },
  {
   "cell_type": "code",
   "execution_count": 5,
   "metadata": {},
   "outputs": [],
   "source": [
    "csv_data_path = \"data_apple.csv\""
   ]
  },
  {
   "cell_type": "code",
   "execution_count": 6,
   "metadata": {},
   "outputs": [],
   "source": [
    "data = pd.read_csv(csv_data_path, index_col=0)"
   ]
  },
  {
   "cell_type": "code",
   "execution_count": 7,
   "metadata": {},
   "outputs": [
    {
     "name": "stdout",
     "output_type": "stream",
     "text": [
      "<class 'pandas.core.frame.DataFrame'>\n",
      "Index: 494 entries, 0 to 493\n",
      "Data columns (total 9 columns):\n",
      " #   Column       Non-Null Count  Dtype \n",
      "---  ------       --------------  ----- \n",
      " 0   author       478 non-null    object\n",
      " 1   title        494 non-null    object\n",
      " 2   description  486 non-null    object\n",
      " 3   url          494 non-null    object\n",
      " 4   urlToImage   486 non-null    object\n",
      " 5   publishedAt  494 non-null    object\n",
      " 6   content      494 non-null    object\n",
      " 7   source.id    29 non-null     object\n",
      " 8   source.name  494 non-null    object\n",
      "dtypes: object(9)\n",
      "memory usage: 38.6+ KB\n"
     ]
    }
   ],
   "source": [
    "data.info()"
   ]
  },
  {
   "cell_type": "code",
   "execution_count": 8,
   "metadata": {},
   "outputs": [
    {
     "data": {
      "text/plain": [
       "author          16\n",
       "title            0\n",
       "description      8\n",
       "url              0\n",
       "urlToImage       8\n",
       "publishedAt      0\n",
       "content          0\n",
       "source.id      465\n",
       "source.name      0\n",
       "dtype: int64"
      ]
     },
     "execution_count": 8,
     "metadata": {},
     "output_type": "execute_result"
    }
   ],
   "source": [
    "data.isnull().sum()"
   ]
  },
  {
   "cell_type": "code",
   "execution_count": 9,
   "metadata": {},
   "outputs": [
    {
     "data": {
      "text/plain": [
       "Index(['author', 'title', 'description', 'url', 'urlToImage', 'publishedAt',\n",
       "       'content', 'source.id', 'source.name'],\n",
       "      dtype='object')"
      ]
     },
     "execution_count": 9,
     "metadata": {},
     "output_type": "execute_result"
    }
   ],
   "source": [
    "data.columns"
   ]
  },
  {
   "cell_type": "code",
   "execution_count": 10,
   "metadata": {},
   "outputs": [
    {
     "data": {
      "text/html": [
       "<div>\n",
       "<style scoped>\n",
       "    .dataframe tbody tr th:only-of-type {\n",
       "        vertical-align: middle;\n",
       "    }\n",
       "\n",
       "    .dataframe tbody tr th {\n",
       "        vertical-align: top;\n",
       "    }\n",
       "\n",
       "    .dataframe thead th {\n",
       "        text-align: right;\n",
       "    }\n",
       "</style>\n",
       "<table border=\"1\" class=\"dataframe\">\n",
       "  <thead>\n",
       "    <tr style=\"text-align: right;\">\n",
       "      <th></th>\n",
       "      <th>author</th>\n",
       "      <th>title</th>\n",
       "      <th>description</th>\n",
       "      <th>url</th>\n",
       "      <th>urlToImage</th>\n",
       "      <th>publishedAt</th>\n",
       "      <th>content</th>\n",
       "      <th>source.id</th>\n",
       "      <th>source.name</th>\n",
       "    </tr>\n",
       "  </thead>\n",
       "  <tbody>\n",
       "    <tr>\n",
       "      <th>0</th>\n",
       "      <td>Emma Roth</td>\n",
       "      <td>Apple reportedly challenges the UK’s secretive...</td>\n",
       "      <td>Apple is pushing back against the UK’s secret ...</td>\n",
       "      <td>https://www.theverge.com/news/623977/apple-uk-...</td>\n",
       "      <td>https://platform.theverge.com/wp-content/uploa...</td>\n",
       "      <td>2025-03-04T18:29:39Z</td>\n",
       "      <td>Apple is appealing the UKs backdoor order, acc...</td>\n",
       "      <td>the-verge</td>\n",
       "      <td>The Verge</td>\n",
       "    </tr>\n",
       "    <tr>\n",
       "      <th>1</th>\n",
       "      <td>Brenda Stolyar</td>\n",
       "      <td>Apple 11-inch and 13-inch iPad Air : Price, Sp...</td>\n",
       "      <td>The 11-inch and 13-inch tablets have the same ...</td>\n",
       "      <td>https://www.wired.com/story/apple-new-ipad-air...</td>\n",
       "      <td>https://media.wired.com/photos/67c71913d63ae42...</td>\n",
       "      <td>2025-03-04T15:46:35Z</td>\n",
       "      <td>Less than a year after upgrading its iPad Air ...</td>\n",
       "      <td>wired</td>\n",
       "      <td>Wired</td>\n",
       "    </tr>\n",
       "    <tr>\n",
       "      <th>2</th>\n",
       "      <td>Brittany Vincent</td>\n",
       "      <td>Apple AirTag 4-Pack Drops to Below $70 on Amaz...</td>\n",
       "      <td>Why buy one? Apple AirTag 4-Pack is a way bett...</td>\n",
       "      <td>https://gizmodo.com/apple-airtag-4-pack-drops-...</td>\n",
       "      <td>https://gizmodo.com/app/uploads/2025/02/4airta...</td>\n",
       "      <td>2025-03-05T13:10:16Z</td>\n",
       "      <td>Looking to stop losing your stuff? Apple’s Air...</td>\n",
       "      <td>NaN</td>\n",
       "      <td>Gizmodo.com</td>\n",
       "    </tr>\n",
       "  </tbody>\n",
       "</table>\n",
       "</div>"
      ],
      "text/plain": [
       "             author                                              title  \\\n",
       "0         Emma Roth  Apple reportedly challenges the UK’s secretive...   \n",
       "1    Brenda Stolyar  Apple 11-inch and 13-inch iPad Air : Price, Sp...   \n",
       "2  Brittany Vincent  Apple AirTag 4-Pack Drops to Below $70 on Amaz...   \n",
       "\n",
       "                                         description  \\\n",
       "0  Apple is pushing back against the UK’s secret ...   \n",
       "1  The 11-inch and 13-inch tablets have the same ...   \n",
       "2  Why buy one? Apple AirTag 4-Pack is a way bett...   \n",
       "\n",
       "                                                 url  \\\n",
       "0  https://www.theverge.com/news/623977/apple-uk-...   \n",
       "1  https://www.wired.com/story/apple-new-ipad-air...   \n",
       "2  https://gizmodo.com/apple-airtag-4-pack-drops-...   \n",
       "\n",
       "                                          urlToImage           publishedAt  \\\n",
       "0  https://platform.theverge.com/wp-content/uploa...  2025-03-04T18:29:39Z   \n",
       "1  https://media.wired.com/photos/67c71913d63ae42...  2025-03-04T15:46:35Z   \n",
       "2  https://gizmodo.com/app/uploads/2025/02/4airta...  2025-03-05T13:10:16Z   \n",
       "\n",
       "                                             content  source.id  source.name  \n",
       "0  Apple is appealing the UKs backdoor order, acc...  the-verge    The Verge  \n",
       "1  Less than a year after upgrading its iPad Air ...      wired        Wired  \n",
       "2  Looking to stop losing your stuff? Apple’s Air...        NaN  Gizmodo.com  "
      ]
     },
     "execution_count": 10,
     "metadata": {},
     "output_type": "execute_result"
    }
   ],
   "source": [
    "data.head(3)"
   ]
  },
  {
   "cell_type": "markdown",
   "metadata": {},
   "source": [
    "## 2. Предобработка"
   ]
  },
  {
   "cell_type": "markdown",
   "metadata": {},
   "source": [
    "### 2.1 Работа с пропущенными значениями"
   ]
  },
  {
   "cell_type": "code",
   "execution_count": 11,
   "metadata": {},
   "outputs": [],
   "source": [
    "data.dropna(subset=[\"title\", \"content\"], inplace=True)"
   ]
  },
  {
   "cell_type": "code",
   "execution_count": 12,
   "metadata": {},
   "outputs": [
    {
     "data": {
      "text/html": [
       "<div>\n",
       "<style scoped>\n",
       "    .dataframe tbody tr th:only-of-type {\n",
       "        vertical-align: middle;\n",
       "    }\n",
       "\n",
       "    .dataframe tbody tr th {\n",
       "        vertical-align: top;\n",
       "    }\n",
       "\n",
       "    .dataframe thead th {\n",
       "        text-align: right;\n",
       "    }\n",
       "</style>\n",
       "<table border=\"1\" class=\"dataframe\">\n",
       "  <thead>\n",
       "    <tr style=\"text-align: right;\">\n",
       "      <th></th>\n",
       "      <th>author</th>\n",
       "      <th>title</th>\n",
       "      <th>description</th>\n",
       "      <th>url</th>\n",
       "      <th>urlToImage</th>\n",
       "      <th>publishedAt</th>\n",
       "      <th>content</th>\n",
       "      <th>source.id</th>\n",
       "      <th>source.name</th>\n",
       "    </tr>\n",
       "  </thead>\n",
       "  <tbody>\n",
       "    <tr>\n",
       "      <th>14</th>\n",
       "      <td>NaN</td>\n",
       "      <td>Apple introduces new iPad Air with M3 chip, Ap...</td>\n",
       "      <td>NaN</td>\n",
       "      <td>https://consent.yahoo.com/v2/collectConsent?se...</td>\n",
       "      <td>NaN</td>\n",
       "      <td>2025-03-04T15:42:05Z</td>\n",
       "      <td>If you click 'Accept all', we and our partners...</td>\n",
       "      <td>NaN</td>\n",
       "      <td>Yahoo Entertainment</td>\n",
       "    </tr>\n",
       "    <tr>\n",
       "      <th>38</th>\n",
       "      <td>NaN</td>\n",
       "      <td>Novo Nordisk's Wegovy, Apple Air, Palantir: To...</td>\n",
       "      <td>NaN</td>\n",
       "      <td>https://consent.yahoo.com/v2/collectConsent?se...</td>\n",
       "      <td>NaN</td>\n",
       "      <td>2025-03-05T16:37:35Z</td>\n",
       "      <td>If you click 'Accept all', we and our partners...</td>\n",
       "      <td>NaN</td>\n",
       "      <td>Yahoo Entertainment</td>\n",
       "    </tr>\n",
       "    <tr>\n",
       "      <th>46</th>\n",
       "      <td>NaN</td>\n",
       "      <td>Apple M3 Ultra</td>\n",
       "      <td>Apple today announced M3 Ultra, offering the m...</td>\n",
       "      <td>https://www.apple.com/newsroom/2025/03/apple-r...</td>\n",
       "      <td>https://www.apple.com/newsroom/images/2025/03/...</td>\n",
       "      <td>2025-03-05T13:59:50Z</td>\n",
       "      <td>March 5, 2025\\r\\nPRESS RELEASE\\r\\nApple reveal...</td>\n",
       "      <td>NaN</td>\n",
       "      <td>Apple Newsroom</td>\n",
       "    </tr>\n",
       "    <tr>\n",
       "      <th>49</th>\n",
       "      <td>NaN</td>\n",
       "      <td>Apple introduces iPad Air with powerful M3 chi...</td>\n",
       "      <td>Apple today introduced the new iPad Air, power...</td>\n",
       "      <td>https://www.apple.com/newsroom/2025/03/apple-i...</td>\n",
       "      <td>https://www.apple.com/newsroom/images/2025/03/...</td>\n",
       "      <td>2025-03-04T14:02:18Z</td>\n",
       "      <td>March 4, 2025\\r\\nPRESS RELEASE\\r\\nApple introd...</td>\n",
       "      <td>NaN</td>\n",
       "      <td>Apple Newsroom</td>\n",
       "    </tr>\n",
       "    <tr>\n",
       "      <th>88</th>\n",
       "      <td>NaN</td>\n",
       "      <td>Apple unveils new Mac Studio, the most powerfu...</td>\n",
       "      <td>Apple today announced the new Mac Studio, the ...</td>\n",
       "      <td>https://www.apple.com/newsroom/2025/03/apple-u...</td>\n",
       "      <td>https://www.apple.com/newsroom/images/2025/03/...</td>\n",
       "      <td>2025-03-05T14:00:57Z</td>\n",
       "      <td>March 5, 2025\\r\\nPRESS RELEASE\\r\\nApple unveil...</td>\n",
       "      <td>NaN</td>\n",
       "      <td>Apple Newsroom</td>\n",
       "    </tr>\n",
       "  </tbody>\n",
       "</table>\n",
       "</div>"
      ],
      "text/plain": [
       "   author                                              title  \\\n",
       "14    NaN  Apple introduces new iPad Air with M3 chip, Ap...   \n",
       "38    NaN  Novo Nordisk's Wegovy, Apple Air, Palantir: To...   \n",
       "46    NaN                                     Apple M3 Ultra   \n",
       "49    NaN  Apple introduces iPad Air with powerful M3 chi...   \n",
       "88    NaN  Apple unveils new Mac Studio, the most powerfu...   \n",
       "\n",
       "                                          description  \\\n",
       "14                                                NaN   \n",
       "38                                                NaN   \n",
       "46  Apple today announced M3 Ultra, offering the m...   \n",
       "49  Apple today introduced the new iPad Air, power...   \n",
       "88  Apple today announced the new Mac Studio, the ...   \n",
       "\n",
       "                                                  url  \\\n",
       "14  https://consent.yahoo.com/v2/collectConsent?se...   \n",
       "38  https://consent.yahoo.com/v2/collectConsent?se...   \n",
       "46  https://www.apple.com/newsroom/2025/03/apple-r...   \n",
       "49  https://www.apple.com/newsroom/2025/03/apple-i...   \n",
       "88  https://www.apple.com/newsroom/2025/03/apple-u...   \n",
       "\n",
       "                                           urlToImage           publishedAt  \\\n",
       "14                                                NaN  2025-03-04T15:42:05Z   \n",
       "38                                                NaN  2025-03-05T16:37:35Z   \n",
       "46  https://www.apple.com/newsroom/images/2025/03/...  2025-03-05T13:59:50Z   \n",
       "49  https://www.apple.com/newsroom/images/2025/03/...  2025-03-04T14:02:18Z   \n",
       "88  https://www.apple.com/newsroom/images/2025/03/...  2025-03-05T14:00:57Z   \n",
       "\n",
       "                                              content source.id  \\\n",
       "14  If you click 'Accept all', we and our partners...       NaN   \n",
       "38  If you click 'Accept all', we and our partners...       NaN   \n",
       "46  March 5, 2025\\r\\nPRESS RELEASE\\r\\nApple reveal...       NaN   \n",
       "49  March 4, 2025\\r\\nPRESS RELEASE\\r\\nApple introd...       NaN   \n",
       "88  March 5, 2025\\r\\nPRESS RELEASE\\r\\nApple unveil...       NaN   \n",
       "\n",
       "            source.name  \n",
       "14  Yahoo Entertainment  \n",
       "38  Yahoo Entertainment  \n",
       "46       Apple Newsroom  \n",
       "49       Apple Newsroom  \n",
       "88       Apple Newsroom  "
      ]
     },
     "execution_count": 12,
     "metadata": {},
     "output_type": "execute_result"
    }
   ],
   "source": [
    "data[data[\"author\"].isnull()].head()"
   ]
  },
  {
   "cell_type": "code",
   "execution_count": 13,
   "metadata": {},
   "outputs": [],
   "source": [
    "data.dropna(subset=[\"author\"], inplace=True)"
   ]
  },
  {
   "cell_type": "markdown",
   "metadata": {},
   "source": [
    "Была мысль заменить пустых author на Unknown, но данные записи, как видно, не хранят полезную информацию, поэтому удалим"
   ]
  },
  {
   "cell_type": "markdown",
   "metadata": {},
   "source": [
    "### 2.2 Дубликаты"
   ]
  },
  {
   "cell_type": "code",
   "execution_count": 14,
   "metadata": {},
   "outputs": [
    {
     "data": {
      "text/plain": [
       "np.True_"
      ]
     },
     "execution_count": 14,
     "metadata": {},
     "output_type": "execute_result"
    }
   ],
   "source": [
    "data.duplicated(subset=[\"title\", \"content\"]).any()"
   ]
  },
  {
   "cell_type": "markdown",
   "metadata": {},
   "source": [
    "Имеются дубликаты, необходимо удалить"
   ]
  },
  {
   "cell_type": "code",
   "execution_count": 15,
   "metadata": {},
   "outputs": [
    {
     "data": {
      "text/html": [
       "<div>\n",
       "<style scoped>\n",
       "    .dataframe tbody tr th:only-of-type {\n",
       "        vertical-align: middle;\n",
       "    }\n",
       "\n",
       "    .dataframe tbody tr th {\n",
       "        vertical-align: top;\n",
       "    }\n",
       "\n",
       "    .dataframe thead th {\n",
       "        text-align: right;\n",
       "    }\n",
       "</style>\n",
       "<table border=\"1\" class=\"dataframe\">\n",
       "  <thead>\n",
       "    <tr style=\"text-align: right;\">\n",
       "      <th></th>\n",
       "      <th>author</th>\n",
       "      <th>title</th>\n",
       "      <th>description</th>\n",
       "      <th>url</th>\n",
       "      <th>urlToImage</th>\n",
       "      <th>publishedAt</th>\n",
       "      <th>content</th>\n",
       "      <th>source.id</th>\n",
       "      <th>source.name</th>\n",
       "    </tr>\n",
       "  </thead>\n",
       "  <tbody>\n",
       "    <tr>\n",
       "      <th>295</th>\n",
       "      <td>Nathan Le Gohlisse</td>\n",
       "      <td>iPhone et iPad : la honte des versions 64 Go e...</td>\n",
       "      <td>Apple a officiellement tiré un trait sur les m...</td>\n",
       "      <td>https://www.frandroid.com/marques/apple/253033...</td>\n",
       "      <td>https://c0.lestechnophiles.com/images.frandroi...</td>\n",
       "      <td>2025-03-05T10:47:41Z</td>\n",
       "      <td>Apple a officiellement tiré un trait sur les m...</td>\n",
       "      <td>NaN</td>\n",
       "      <td>Frandroid</td>\n",
       "    </tr>\n",
       "  </tbody>\n",
       "</table>\n",
       "</div>"
      ],
      "text/plain": [
       "                 author                                              title  \\\n",
       "295  Nathan Le Gohlisse  iPhone et iPad : la honte des versions 64 Go e...   \n",
       "\n",
       "                                           description  \\\n",
       "295  Apple a officiellement tiré un trait sur les m...   \n",
       "\n",
       "                                                   url  \\\n",
       "295  https://www.frandroid.com/marques/apple/253033...   \n",
       "\n",
       "                                            urlToImage           publishedAt  \\\n",
       "295  https://c0.lestechnophiles.com/images.frandroi...  2025-03-05T10:47:41Z   \n",
       "\n",
       "                                               content source.id source.name  \n",
       "295  Apple a officiellement tiré un trait sur les m...       NaN   Frandroid  "
      ]
     },
     "execution_count": 15,
     "metadata": {},
     "output_type": "execute_result"
    }
   ],
   "source": [
    "data[data.duplicated(subset=[\"title\", \"content\"])]"
   ]
  },
  {
   "cell_type": "code",
   "execution_count": 16,
   "metadata": {},
   "outputs": [],
   "source": [
    "data.drop_duplicates(subset=[\"title\", \"content\"], inplace=True)"
   ]
  },
  {
   "cell_type": "markdown",
   "metadata": {},
   "source": [
    "### 2.3 Предобработка текста"
   ]
  },
  {
   "cell_type": "code",
   "execution_count": 17,
   "metadata": {},
   "outputs": [
    {
     "name": "stderr",
     "output_type": "stream",
     "text": [
      "[nltk_data] Downloading package punkt_tab to\n",
      "[nltk_data]     C:\\Users\\nikol\\AppData\\Roaming\\nltk_data...\n",
      "[nltk_data]   Package punkt_tab is already up-to-date!\n",
      "[nltk_data] Downloading package stopwords to\n",
      "[nltk_data]     C:\\Users\\nikol\\AppData\\Roaming\\nltk_data...\n",
      "[nltk_data]   Package stopwords is already up-to-date!\n",
      "[nltk_data] Downloading package wordnet to\n",
      "[nltk_data]     C:\\Users\\nikol\\AppData\\Roaming\\nltk_data...\n",
      "[nltk_data]   Package wordnet is already up-to-date!\n"
     ]
    }
   ],
   "source": [
    "nltk.download('punkt_tab')\n",
    "nltk.download('stopwords')\n",
    "nltk.download('wordnet')\n",
    "\n",
    "stop_words = set(stopwords.words('english'))\n",
    "lemmatizer = WordNetLemmatizer()"
   ]
  },
  {
   "cell_type": "code",
   "execution_count": 18,
   "metadata": {},
   "outputs": [],
   "source": [
    "def clean_text(text):\n",
    "    \"\"\"\n",
    "    Функция очистки текста\n",
    "    Удаляет лишние пробелы и символы переноса строк и табуляции\n",
    "    Оставляет только буквы и цифры\n",
    "\n",
    "    Args:\n",
    "        text (_type_): Исходный текст\n",
    "\n",
    "    Returns:\n",
    "        _type_: Очищенный текст\n",
    "    \"\"\"\n",
    "\n",
    "    if not isinstance(text, str):\n",
    "        return \"\"\n",
    "    text = re.sub(r\"\\s+\", \" \", text) # удаляем символы табуляции и переносов строк\n",
    "    text = re.sub(r'\\[\\+\\d+ chars\\]', '', text) # удаляем [+123 chars] (есть в каждом content)\n",
    "    text = re.sub(r\"[^a-zA-Z0-9]\", \" \", text)  # оставляем только буквы и цифры\n",
    "    \n",
    "    text = text.lower()\n",
    "    words = word_tokenize(text)  # Токенизация\n",
    "    words = [lemmatizer.lemmatize(word) for word in words if word not in stop_words]  # Лемматизация\n",
    "    return \" \".join(words)\n",
    "\n",
    "data[\"title\"] = data[\"title\"].apply(clean_text)\n",
    "data[\"description\"] = data[\"description\"].apply(clean_text)\n",
    "data[\"content\"] = data[\"content\"].apply(clean_text)"
   ]
  },
  {
   "cell_type": "markdown",
   "metadata": {},
   "source": [
    "### 2.4 Преобразование дат"
   ]
  },
  {
   "cell_type": "code",
   "execution_count": 19,
   "metadata": {},
   "outputs": [],
   "source": [
    "data['publishedAt'] = pd.to_datetime(data['publishedAt'], errors='coerce')"
   ]
  },
  {
   "cell_type": "code",
   "execution_count": 20,
   "metadata": {},
   "outputs": [],
   "source": [
    "data['date'] = data['publishedAt'].dt.date\n",
    "data['time'] = data['publishedAt'].dt.time"
   ]
  },
  {
   "cell_type": "markdown",
   "metadata": {},
   "source": [
    "### 2.5 Фильтрация"
   ]
  },
  {
   "cell_type": "code",
   "execution_count": 21,
   "metadata": {},
   "outputs": [
    {
     "data": {
      "text/html": [
       "<div>\n",
       "<style scoped>\n",
       "    .dataframe tbody tr th:only-of-type {\n",
       "        vertical-align: middle;\n",
       "    }\n",
       "\n",
       "    .dataframe tbody tr th {\n",
       "        vertical-align: top;\n",
       "    }\n",
       "\n",
       "    .dataframe thead th {\n",
       "        text-align: right;\n",
       "    }\n",
       "</style>\n",
       "<table border=\"1\" class=\"dataframe\">\n",
       "  <thead>\n",
       "    <tr style=\"text-align: right;\">\n",
       "      <th></th>\n",
       "      <th>author</th>\n",
       "      <th>title</th>\n",
       "      <th>description</th>\n",
       "      <th>url</th>\n",
       "      <th>publishedAt</th>\n",
       "      <th>content</th>\n",
       "      <th>date</th>\n",
       "      <th>time</th>\n",
       "    </tr>\n",
       "  </thead>\n",
       "  <tbody>\n",
       "    <tr>\n",
       "      <th>0</th>\n",
       "      <td>Emma Roth</td>\n",
       "      <td>apple reportedly challenge uk secretive encryp...</td>\n",
       "      <td>apple pushing back uk secret order give govern...</td>\n",
       "      <td>https://www.theverge.com/news/623977/apple-uk-...</td>\n",
       "      <td>2025-03-04 18:29:39+00:00</td>\n",
       "      <td>apple appealing uk backdoor order according fi...</td>\n",
       "      <td>2025-03-04</td>\n",
       "      <td>18:29:39</td>\n",
       "    </tr>\n",
       "    <tr>\n",
       "      <th>1</th>\n",
       "      <td>Brenda Stolyar</td>\n",
       "      <td>apple 11 inch 13 inch ipad air price spec avai...</td>\n",
       "      <td>11 inch 13 inch tablet look minor boost perfor...</td>\n",
       "      <td>https://www.wired.com/story/apple-new-ipad-air...</td>\n",
       "      <td>2025-03-04 15:46:35+00:00</td>\n",
       "      <td>less year upgrading ipad air m2 chip apple alr...</td>\n",
       "      <td>2025-03-04</td>\n",
       "      <td>15:46:35</td>\n",
       "    </tr>\n",
       "    <tr>\n",
       "      <th>2</th>\n",
       "      <td>Brittany Vincent</td>\n",
       "      <td>apple airtag 4 pack drop 70 amazon 18</td>\n",
       "      <td>buy one apple airtag 4 pack way better deal</td>\n",
       "      <td>https://gizmodo.com/apple-airtag-4-pack-drops-...</td>\n",
       "      <td>2025-03-05 13:10:16+00:00</td>\n",
       "      <td>looking stop losing stuff apple airtags become...</td>\n",
       "      <td>2025-03-05</td>\n",
       "      <td>13:10:16</td>\n",
       "    </tr>\n",
       "  </tbody>\n",
       "</table>\n",
       "</div>"
      ],
      "text/plain": [
       "             author                                              title  \\\n",
       "0         Emma Roth  apple reportedly challenge uk secretive encryp...   \n",
       "1    Brenda Stolyar  apple 11 inch 13 inch ipad air price spec avai...   \n",
       "2  Brittany Vincent              apple airtag 4 pack drop 70 amazon 18   \n",
       "\n",
       "                                         description  \\\n",
       "0  apple pushing back uk secret order give govern...   \n",
       "1  11 inch 13 inch tablet look minor boost perfor...   \n",
       "2        buy one apple airtag 4 pack way better deal   \n",
       "\n",
       "                                                 url  \\\n",
       "0  https://www.theverge.com/news/623977/apple-uk-...   \n",
       "1  https://www.wired.com/story/apple-new-ipad-air...   \n",
       "2  https://gizmodo.com/apple-airtag-4-pack-drops-...   \n",
       "\n",
       "                publishedAt  \\\n",
       "0 2025-03-04 18:29:39+00:00   \n",
       "1 2025-03-04 15:46:35+00:00   \n",
       "2 2025-03-05 13:10:16+00:00   \n",
       "\n",
       "                                             content        date      time  \n",
       "0  apple appealing uk backdoor order according fi...  2025-03-04  18:29:39  \n",
       "1  less year upgrading ipad air m2 chip apple alr...  2025-03-04  15:46:35  \n",
       "2  looking stop losing stuff apple airtags become...  2025-03-05  13:10:16  "
      ]
     },
     "execution_count": 21,
     "metadata": {},
     "output_type": "execute_result"
    }
   ],
   "source": [
    "data.drop(columns=[\"urlToImage\", \"source.id\", \"source.name\"], inplace=True)\n",
    "data.head(3)"
   ]
  },
  {
   "cell_type": "markdown",
   "metadata": {},
   "source": [
    "## 3. Какие задачи необходимо решить:\n",
    "- Подсчет самых частых слов\n",
    "- Определение тональности\n",
    "- Определение главных тем"
   ]
  },
  {
   "cell_type": "markdown",
   "metadata": {},
   "source": [
    "### 3.1 Определение тональности текста"
   ]
  },
  {
   "cell_type": "code",
   "execution_count": 26,
   "metadata": {},
   "outputs": [
    {
     "name": "stderr",
     "output_type": "stream",
     "text": [
      "[nltk_data] Downloading package vader_lexicon to\n",
      "[nltk_data]     C:\\Users\\nikol\\AppData\\Roaming\\nltk_data...\n",
      "[nltk_data]   Package vader_lexicon is already up-to-date!\n"
     ]
    },
    {
     "data": {
      "text/html": [
       "<div>\n",
       "<style scoped>\n",
       "    .dataframe tbody tr th:only-of-type {\n",
       "        vertical-align: middle;\n",
       "    }\n",
       "\n",
       "    .dataframe tbody tr th {\n",
       "        vertical-align: top;\n",
       "    }\n",
       "\n",
       "    .dataframe thead th {\n",
       "        text-align: right;\n",
       "    }\n",
       "</style>\n",
       "<table border=\"1\" class=\"dataframe\">\n",
       "  <thead>\n",
       "    <tr style=\"text-align: right;\">\n",
       "      <th></th>\n",
       "      <th>author</th>\n",
       "      <th>title</th>\n",
       "      <th>description</th>\n",
       "      <th>url</th>\n",
       "      <th>publishedAt</th>\n",
       "      <th>content</th>\n",
       "      <th>date</th>\n",
       "      <th>time</th>\n",
       "      <th>sentiment</th>\n",
       "    </tr>\n",
       "  </thead>\n",
       "  <tbody>\n",
       "    <tr>\n",
       "      <th>0</th>\n",
       "      <td>Emma Roth</td>\n",
       "      <td>apple reportedly challenge uk secretive encryp...</td>\n",
       "      <td>apple pushing back uk secret order give govern...</td>\n",
       "      <td>https://www.theverge.com/news/623977/apple-uk-...</td>\n",
       "      <td>2025-03-04 18:29:39+00:00</td>\n",
       "      <td>apple appealing uk backdoor order according fi...</td>\n",
       "      <td>2025-03-04</td>\n",
       "      <td>18:29:39</td>\n",
       "      <td>neu</td>\n",
       "    </tr>\n",
       "    <tr>\n",
       "      <th>1</th>\n",
       "      <td>Brenda Stolyar</td>\n",
       "      <td>apple 11 inch 13 inch ipad air price spec avai...</td>\n",
       "      <td>11 inch 13 inch tablet look minor boost perfor...</td>\n",
       "      <td>https://www.wired.com/story/apple-new-ipad-air...</td>\n",
       "      <td>2025-03-04 15:46:35+00:00</td>\n",
       "      <td>less year upgrading ipad air m2 chip apple alr...</td>\n",
       "      <td>2025-03-04</td>\n",
       "      <td>15:46:35</td>\n",
       "      <td>neu</td>\n",
       "    </tr>\n",
       "    <tr>\n",
       "      <th>2</th>\n",
       "      <td>Brittany Vincent</td>\n",
       "      <td>apple airtag 4 pack drop 70 amazon 18</td>\n",
       "      <td>buy one apple airtag 4 pack way better deal</td>\n",
       "      <td>https://gizmodo.com/apple-airtag-4-pack-drops-...</td>\n",
       "      <td>2025-03-05 13:10:16+00:00</td>\n",
       "      <td>looking stop losing stuff apple airtags become...</td>\n",
       "      <td>2025-03-05</td>\n",
       "      <td>13:10:16</td>\n",
       "      <td>neu</td>\n",
       "    </tr>\n",
       "  </tbody>\n",
       "</table>\n",
       "</div>"
      ],
      "text/plain": [
       "             author                                              title  \\\n",
       "0         Emma Roth  apple reportedly challenge uk secretive encryp...   \n",
       "1    Brenda Stolyar  apple 11 inch 13 inch ipad air price spec avai...   \n",
       "2  Brittany Vincent              apple airtag 4 pack drop 70 amazon 18   \n",
       "\n",
       "                                         description  \\\n",
       "0  apple pushing back uk secret order give govern...   \n",
       "1  11 inch 13 inch tablet look minor boost perfor...   \n",
       "2        buy one apple airtag 4 pack way better deal   \n",
       "\n",
       "                                                 url  \\\n",
       "0  https://www.theverge.com/news/623977/apple-uk-...   \n",
       "1  https://www.wired.com/story/apple-new-ipad-air...   \n",
       "2  https://gizmodo.com/apple-airtag-4-pack-drops-...   \n",
       "\n",
       "                publishedAt  \\\n",
       "0 2025-03-04 18:29:39+00:00   \n",
       "1 2025-03-04 15:46:35+00:00   \n",
       "2 2025-03-05 13:10:16+00:00   \n",
       "\n",
       "                                             content        date      time  \\\n",
       "0  apple appealing uk backdoor order according fi...  2025-03-04  18:29:39   \n",
       "1  less year upgrading ipad air m2 chip apple alr...  2025-03-04  15:46:35   \n",
       "2  looking stop losing stuff apple airtags become...  2025-03-05  13:10:16   \n",
       "\n",
       "  sentiment  \n",
       "0       neu  \n",
       "1       neu  \n",
       "2       neu  "
      ]
     },
     "execution_count": 26,
     "metadata": {},
     "output_type": "execute_result"
    }
   ],
   "source": [
    "\n",
    "nltk.download('vader_lexicon')\n",
    "\n",
    "\n",
    "def get_text_sentiment(text: str) -> str:\n",
    "    \"\"\"Функция определения тональности текста\n",
    "\n",
    "    Args:\n",
    "        text (str): исходный текст\n",
    "\n",
    "    Returns:\n",
    "        str: тональность (neg, neu, pos, compound)\n",
    "    \"\"\"\n",
    "    sia = SentimentIntensityAnalyzer()\n",
    "    sentiment_scores = sia.polarity_scores(text)\n",
    "    return max(sentiment_scores, key=sentiment_scores.get)\n",
    "\n",
    "data[\"sentiment\"] = data[\"description\"].apply(get_text_sentiment)\n",
    "data.head(3)"
   ]
  },
  {
   "cell_type": "markdown",
   "metadata": {},
   "source": [
    "Ниже решил вспомнить различные варианты визуализации данных"
   ]
  },
  {
   "cell_type": "code",
   "execution_count": 27,
   "metadata": {},
   "outputs": [
    {
     "data": {
      "image/png": "[encoded data removed]",
      "text/plain": [
       "<Figure size 640x480 with 1 Axes>"
      ]
     },
     "metadata": {},
     "output_type": "display_data"
    }
   ],
   "source": [
    "sentiment_counts = data[\"sentiment\"].value_counts()\n",
    "\n",
    "plt.bar(sentiment_counts.index, sentiment_counts.values, color=[\"blue\", \"gray\", \"red\", \"green\"])\n",
    "plt.title('Распределение тональности текстов')\n",
    "plt.xlabel('Тональность')\n",
    "plt.ylabel('Частота')\n",
    "plt.grid(axis=\"y\", linestyle=\"--\", alpha=0.5)\n",
    "plt.show()\n"
   ]
  },
  {
   "cell_type": "code",
   "execution_count": 28,
   "metadata": {},
   "outputs": [
    {
     "data": {
      "image/png": "[encoded data removed]",
      "text/plain": [
       "<Figure size 640x480 with 1 Axes>"
      ]
     },
     "metadata": {},
     "output_type": "display_data"
    }
   ],
   "source": [
    "plt.hist(data[\"sentiment\"], color=\"blue\")\n",
    "plt.title('Распределение тональности текстов')\n",
    "plt.xlabel('Тональность')\n",
    "plt.ylabel('Частота')\n",
    "plt.grid(axis=\"y\", linestyle=\"--\", alpha=0.5)\n",
    "plt.show()"
   ]
  },
  {
   "cell_type": "code",
   "execution_count": 29,
   "metadata": {},
   "outputs": [
    {
     "data": {
      "image/png": "[encoded data removed]",
      "text/plain": [
       "<Figure size 640x480 with 1 Axes>"
      ]
     },
     "metadata": {},
     "output_type": "display_data"
    }
   ],
   "source": [
    "plt.pie(sentiment_counts, labels=sentiment_counts.index, colors=[\"blue\", \"gray\", \"red\", \"green\"])\n",
    "plt.title('Распределение тональности текстов')\n",
    "plt.xlabel('Тональность')\n",
    "plt.ylabel('Частота')\n",
    "plt.grid(axis=\"y\", linestyle=\"--\", alpha=0.5)\n",
    "plt.show()"
   ]
  }
 ],
 "metadata": {
  "kernelspec": {
   "display_name": "news_analysis",
   "language": "python",
   "name": "python3"
  },
  "language_info": {
   "codemirror_mode": {
    "name": "ipython",
    "version": 3
   },
   "file_extension": ".py",
   "mimetype": "text/x-python",
   "name": "python",
   "nbconvert_exporter": "python",
   "pygments_lexer": "ipython3",
   "version": "3.10.16"
  }
 },
 "nbformat": 4,
 "nbformat_minor": 2
}
